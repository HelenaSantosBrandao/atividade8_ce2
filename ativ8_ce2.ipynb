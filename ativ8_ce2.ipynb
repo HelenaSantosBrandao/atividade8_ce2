{
  "nbformat": 4,
  "nbformat_minor": 0,
  "metadata": {
    "colab": {
      "name": "ativ8_ce2.ipynb",
      "provenance": []
    },
    "kernelspec": {
      "name": "python3",
      "display_name": "Python 3"
    },
    "language_info": {
      "name": "python"
    }
  },
  "cells": [
    {
      "cell_type": "code",
      "metadata": {
        "colab": {
          "base_uri": "https://localhost:8080/"
        },
        "id": "sltSJs9QXu3c",
        "outputId": "c4753799-a1f2-4ad4-aacb-1f206768b262"
      },
      "source": [
        "import random\n",
        "\n",
        "def escolhe(matricula):\n",
        "    random.seed(matricula)\n",
        "    cap8 = (174,175,176,177,179,181,182,185)\n",
        "    return(random.sample(cap8, k=2))\n",
        "\n",
        "print(\"Você deverá entregar os exercícios: \", escolhe(input(\"Escreva o número de sua matricula: \")))"
      ],
      "execution_count": 1,
      "outputs": [
        {
          "output_type": "stream",
          "text": [
            "Escreva o número de sua matricula: 180032861\n",
            "Você deverá entregar os exercícios:  [175, 176]\n"
          ],
          "name": "stdout"
        }
      ]
    },
    {
      "cell_type": "markdown",
      "metadata": {
        "id": "CiPbFOrIYISw"
      },
      "source": [
        "### **Questão 174**\n",
        "Greatest Common Divisor"
      ]
    },
    {
      "cell_type": "code",
      "metadata": {
        "colab": {
          "base_uri": "https://localhost:8080/"
        },
        "id": "2ms9OjUnX13E",
        "outputId": "722c0785-89b1-4c48-a6ff-7031e0ad0bd7"
      },
      "source": [
        "def gcd(n1, n2):\n",
        "    a = max(n1,n2)\n",
        "    b = min(n1, n2)\n",
        "    if b == 0:\n",
        "        return a\n",
        "    else:\n",
        "        c = a % b\n",
        "        return gcd(b, c)\n",
        "\n",
        "n1 = int(input('primeiro número: '))\n",
        "n2 = int(input('segundo número: '))\n",
        "\n",
        "print(gcd(n2, n1))"
      ],
      "execution_count": 10,
      "outputs": [
        {
          "output_type": "stream",
          "text": [
            "primeiro número: 2\n",
            "segundo número: 78\n",
            "2\n"
          ],
          "name": "stdout"
        }
      ]
    },
    {
      "cell_type": "markdown",
      "metadata": {
        "id": "LnwvH-NtaS41"
      },
      "source": [
        "### **Questão 175**\n",
        "Recursive Decimal to Binary"
      ]
    },
    {
      "cell_type": "code",
      "metadata": {
        "id": "yGsZIU9bb24-"
      },
      "source": [
        "def binario(n):\n",
        "    if n == 0:\n",
        "        return '0'\n",
        "    elif n == 1:\n",
        "        return '1'\n",
        "    else:\n",
        "        return binario(n//2) + str(n%2)\n",
        "    \n",
        "def main():\n",
        "    binario_ = binario(int(input('Um número inteiro não negativo: ')))\n",
        "    print('Número binário:', binario_)\n",
        "main()"
      ],
      "execution_count": null,
      "outputs": []
    },
    {
      "cell_type": "markdown",
      "metadata": {
        "id": "oChz1-zSb_N6"
      },
      "source": [
        "### **Questão 176**\n",
        "The NATO Phonetic Alphabet\n"
      ]
    },
    {
      "cell_type": "code",
      "metadata": {
        "colab": {
          "base_uri": "https://localhost:8080/"
        },
        "id": "9FfbFQbkcE18",
        "outputId": "0754e75b-f060-405b-8955-8014d8ebc248"
      },
      "source": [
        "letra = ['A', 'B', 'C', 'D', 'E', 'F', 'G','H', 'I', 'J', 'K', 'L', 'M','N', 'O', 'P', 'Q', 'R', 'S', 'T','U', 'V', 'W', 'X', 'Y', 'Z']\n",
        "palavra = ['Alpha', 'Bravo', 'Charlie', 'Delta', 'Echo', 'Foxtrot', 'Golf', 'Hotel', 'India',\n",
        "'Juliet', 'Kilo', 'Lima', 'Mike', 'November', 'Oscar', 'Papa', 'Quebec', 'Romeo',\n",
        "'Sierra', 'Tango', 'Uniform', 'Victor', 'Whiskey', 'Xray', 'Yankee', 'Zulu']\n",
        "\n",
        "NATO = {}\n",
        "for i in range(len(letra)):\n",
        "    NATO[letra[i]] = palavra[i]\n",
        "\n",
        "def nato(s):\n",
        "    if len(s) == 0:\n",
        "        return ''\n",
        "    else:\n",
        "        return NATO[s[0]] + ' ' + nato(s[1:])\n",
        "\n",
        "def main():\n",
        "    nome = input('Palavra: ')\n",
        "    nome = nome.upper()\n",
        "    print(nato(nome))\n",
        "\n",
        "main()"
      ],
      "execution_count": 14,
      "outputs": [
        {
          "output_type": "stream",
          "text": [
            "Palavra: Hello\n",
            "Hotel Echo Lima Lima Oscar \n"
          ],
          "name": "stdout"
        }
      ]
    },
    {
      "cell_type": "markdown",
      "metadata": {
        "id": "Fv59tDSGc_f-"
      },
      "source": [
        "### **Questão 177**\n",
        "Roman Numerals"
      ]
    },
    {
      "cell_type": "code",
      "metadata": {
        "colab": {
          "base_uri": "https://localhost:8080/"
        },
        "id": "0-jV7UIPdE42",
        "outputId": "93139be8-4e18-437c-ebae-03e828628406"
      },
      "source": [
        "r = {'M':1000, 'D':500, 'C':100, 'L':50, 'X':10, 'V':5, 'I':1}\n",
        "\n",
        "def t(n):\n",
        "    if len(n) == 0:\n",
        "        return 0\n",
        "    elif len(n) == 1:\n",
        "        return r[n]\n",
        "    else:\n",
        "        if r[n[0]] < r[n[1]]:\n",
        "            return r[n[1]] - r[n[0]] + t(n[2:])\n",
        "        else:\n",
        "            return r[n[0]] + r[n[1]] + t(n[2:])\n",
        "\n",
        "\n",
        "print(t(input('Um número romano: ')))"
      ],
      "execution_count": 24,
      "outputs": [
        {
          "output_type": "stream",
          "text": [
            "Um número romano: XVII\n",
            "17\n"
          ],
          "name": "stdout"
        }
      ]
    },
    {
      "cell_type": "markdown",
      "metadata": {
        "id": "ORG0IHp2eldS"
      },
      "source": [
        "### **Questão 179**\n",
        "Recursive Square Root\n"
      ]
    },
    {
      "cell_type": "code",
      "metadata": {
        "colab": {
          "base_uri": "https://localhost:8080/"
        },
        "id": "0G1U1dq6ep7N",
        "outputId": "90426357-d1c4-41ed-f196-fc3f8aee7a13"
      },
      "source": [
        "def raiz(n, guess = 1):\n",
        "    if abs(guess**2 - n) < 10**(-12):\n",
        "        return guess\n",
        "    else:\n",
        "        return raiz(n, ((guess + n/guess)/2))\n",
        "\n",
        "def main():\n",
        "    print('Exemplos de raiz quadrada:')\n",
        "    print('n = 73')\n",
        "    print(raiz(73))\n",
        "    print()\n",
        "    print('n = 100')\n",
        "    print(raiz(100))\n",
        "    print()\n",
        "    print('n = 656957')\n",
        "    print(raiz(656957))\n",
        "    print()\n",
        "    print('n = 25')\n",
        "    print(raiz(25))\n",
        "    print()\n",
        "\n",
        "if __name__ == '__main__':\n",
        "    main()"
      ],
      "execution_count": 29,
      "outputs": [
        {
          "output_type": "stream",
          "text": [
            "Exemplos de raiz quadrada:\n",
            "n = 73\n",
            "8.544003745317532\n",
            "\n",
            "n = 100\n",
            "10.0\n",
            "\n",
            "n = 656957\n",
            "810.528839708989\n",
            "\n",
            "n = 25\n",
            "5.0\n",
            "\n"
          ],
          "name": "stdout"
        }
      ]
    },
    {
      "cell_type": "markdown",
      "metadata": {
        "id": "8gDqTPizf47w"
      },
      "source": [
        "### **Questão 185**\n",
        "Run-Length Decoding"
      ]
    },
    {
      "cell_type": "code",
      "metadata": {
        "colab": {
          "base_uri": "https://localhost:8080/"
        },
        "id": "B6TmH1hyf_JA",
        "outputId": "1969a0ed-613b-452b-8286-a731d87fa515"
      },
      "source": [
        "def d(l):\n",
        "    n_l = []\n",
        "    if len(l) == 2:\n",
        "        for _ in range(l[1]):\n",
        "            n_l.append(l[0])\n",
        "    else:\n",
        "        for _ in range(l[1]):\n",
        "            n_l.append(l[0])\n",
        "        n_l += d(l[2:])\n",
        "    return n_l\n",
        "\n",
        "def main():\n",
        "    print(d([\"A\", 12, \"B\", 4, \"A\", 6, \"B\", 1]))\n",
        "\n",
        "if __name__ == '__main__':\n",
        "    main()"
      ],
      "execution_count": 30,
      "outputs": [
        {
          "output_type": "stream",
          "text": [
            "['A', 'A', 'A', 'A', 'A', 'A', 'A', 'A', 'A', 'A', 'A', 'A', 'B', 'B', 'B', 'B', 'A', 'A', 'A', 'A', 'A', 'A', 'B']\n"
          ],
          "name": "stdout"
        }
      ]
    }
  ]
}